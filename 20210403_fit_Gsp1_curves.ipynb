{
 "cells": [
  {
   "cell_type": "code",
   "execution_count": 1,
   "metadata": {},
   "outputs": [],
   "source": [
    "import numpy as np\n",
    "import math\n",
    "import matplotlib as mpl\n",
    "import matplotlib.pyplot as plt\n",
    "import pandas as pd\n",
    "import seaborn as sns\n",
    "from scipy.optimize import curve_fit\n",
    "import ipywidgets as widgets\n",
    "\n",
    "# read in the data\n",
    "\n",
    "df_GDP = pd.read_csv('./summary_GDP.csv', header=0) #change csv name\n",
    "df_GTP = pd.read_csv('./summary_GTP.csv', header=0)\n",
    "\n",
    "timepoints = df_GDP['Deut Time (sec)'].unique()\n",
    "peptides_GDP = df_GDP['Sequence'].unique()\n",
    "peptides_GTP = df_GTP['Sequence'].unique()\n",
    "\n",
    "df_peptides_resnum = df_GDP[[\"Start\",\"End\",\"Sequence\"]]\n",
    "df_peptides_resnum = df_peptides_resnum.drop_duplicates()\n",
    "peptide_resnums = {}\n",
    "for index, row in df_peptides_resnum.iterrows():\n",
    "    peptide_resnums[ row['Sequence'] ] = row['Start'], row['End']\n",
    "\n",
    "peptides_both = set(peptides_GDP).intersection(peptides_GTP)\n",
    "peptides_one = set(peptides_GDP).difference(peptides_GTP)"
   ]
  },
  {
   "cell_type": "code",
   "execution_count": 2,
   "metadata": {},
   "outputs": [
    {
     "data": {
      "application/vnd.jupyter.widget-view+json": {
       "model_id": "293ceed99ce444308173c6c2867397e2",
       "version_major": 2,
       "version_minor": 0
      },
      "text/plain": [
       "Dropdown(description='Peptide 1:', options=('1- GSSAPAANGEVPTF', '1- GSSAPAANGEVPTFKL', '1- GSSAPAANGEVPTFKLVL…"
      ]
     },
     "metadata": {},
     "output_type": "display_data"
    },
    {
     "data": {
      "application/vnd.jupyter.widget-view+json": {
       "model_id": "53c80a72b6274691b9b3291a2c9f3f1c",
       "version_major": 2,
       "version_minor": 0
      },
      "text/plain": [
       "Dropdown(description='Peptide 2:', index=4, options=('1- GSSAPAANGEVPTF', '1- GSSAPAANGEVPTFKL', '1- GSSAPAANG…"
      ]
     },
     "metadata": {},
     "output_type": "display_data"
    }
   ],
   "source": [
    "dropdown_peptides = []\n",
    "for peptide in peptides_both:\n",
    "    peptide_start = str(peptide_resnums.get(peptide)[0])\n",
    "    dropdown_peptides.append(peptide_start + '- ' + peptide)\n",
    "dropdown_peptides = sorted(dropdown_peptides)\n",
    "\n",
    "DDwidget = widgets.Dropdown(\n",
    "    options = dropdown_peptides,\n",
    "    value = '1- GSSAPAANGEVPTF',\n",
    "    description = 'Peptide 1:',\n",
    "    disabled = False,\n",
    ")\n",
    "\n",
    "DDwidget2 = widgets.Dropdown(\n",
    "    options = dropdown_peptides,\n",
    "    value = '108- HRDLVRVCENIPIVL',\n",
    "    description = 'Peptide 2:',\n",
    "    disabled = False,\n",
    ")\n",
    "\n",
    "display(DDwidget)\n",
    "display(DDwidget2)"
   ]
  },
  {
   "cell_type": "code",
   "execution_count": 3,
   "metadata": {
    "scrolled": false
   },
   "outputs": [
    {
     "name": "stdout",
     "output_type": "stream",
     "text": [
      "FDVTSRITYKNVPNWHRDLVRV\n",
      "YINAQCA\n"
     ]
    }
   ],
   "source": [
    "peptide_input1 = str(DDwidget.value)\n",
    "peptide_input1 = peptide_input1.split()[-1]\n",
    "\n",
    "peptide_input2 = str(DDwidget2.value)\n",
    "peptide_input2 = peptide_input2.split()[-1]\n",
    "\n",
    "\n",
    "# for peptide in peptides_both:\n",
    "#     print(peptide)\n",
    "#     GDP_exchanged = []\n",
    "#     GTP_exchanged = []\n",
    "#     num_prolines = peptide[2:].count('P')\n",
    "#     max_protons = len(peptide) - 2 - num_prolines\n",
    "\n",
    "#     df_GDP_subset = df_GDP[[\"Sequence\",\"Deut Time (sec)\",\"#D\"]]\n",
    "#     df_GTP_subset = df_GTP[[\"Sequence\",\"Deut Time (sec)\",\"#D\"]]\n",
    "#     df_GDP_peptide = df_GDP_subset[df_GDP_subset[\"Sequence\"] == peptide]\n",
    "#     df_GTP_peptide = df_GTP_subset[df_GTP_subset[\"Sequence\"] == peptide]\n",
    "        \n",
    "#     for timepoint in timepoints:\n",
    "#         df_GDP_tp = df_GDP_peptide[df_GDP_peptide[\"Deut Time (sec)\"] == timepoint]\n",
    "#         GDP_exchanged.append(df_GDP_tp['#D'])\n",
    "#         df_GTP_tp = df_GTP_peptide[df_GTP_peptide[\"Deut Time (sec)\"] == timepoint]\n",
    "#         GTP_exchanged.append(df_GTP_tp['#D'])\n",
    "        \n",
    "#     GDP_timepoints = []\n",
    "#     GDP_index = 0\n",
    "#     GDP_exchanged_ = []\n",
    "#     for x in GDP_exchanged:\n",
    "#         if not math.isnan(float(x)):\n",
    "#             GDP_timepoints.append(timepoints[GDP_index])\n",
    "#             GDP_exchanged_.append(float(x))\n",
    "#         GDP_index = GDP_index + 1\n",
    "        \n",
    "#     GTP_timepoints = []\n",
    "#     GTP_index = 0\n",
    "#     GTP_exchanged_ = []\n",
    "#     for x in GTP_exchanged:\n",
    "#         if not math.isnan(float(x)):\n",
    "#             GTP_timepoints.append(timepoints[GTP_index])\n",
    "#             GTP_exchanged_.append(float(x))\n",
    "#         GTP_index = GTP_index + 1\n",
    "\n",
    "#     def exchange_fit(x, a, b, c, d, e, f, g):\n",
    "#         max_protons = a + b + c + g\n",
    "#         d > e\n",
    "#         e > f\n",
    "#         d > f\n",
    "#         return max_protons - a * np.exp(-d * x) - b * np.exp(-e * x) - c * np.exp(-f * x) - g\n",
    "\n",
    "#     if len(GDP_timepoints) > 3 and len(GTP_timepoints) > 3:\n",
    "\n",
    "#         GDP_exchanged_list = []\n",
    "#         for element in GDP_exchanged_:\n",
    "#             GDP_exchanged_list.append(float(element))\n",
    "#         GTP_exchanged_list = []\n",
    "#         for element in GTP_exchanged_:\n",
    "#             GTP_exchanged_list.append(float(element))\n",
    "\n",
    "#         trialT = np.logspace(1, 4.5, 10000)\n",
    "#         popt, pcov = curve_fit(f = exchange_fit, xdata = GDP_timepoints, ydata = GDP_exchanged_list,\n",
    "#                                bounds = (0, [max_protons-1, max_protons-1, max_protons-1, 1, 1, 1, max_protons]),\n",
    "#                                maxfev = 100000)\n",
    "#         exchange_GDP = exchange_fit(trialT, *popt)\n",
    "#         print(\"GDP\")\n",
    "#         print(popt)\n",
    "#         perr = np.sqrt(np.diag(pcov))\n",
    "        \n",
    "\n",
    "#         trialT = np.logspace(1, 4.5, 10000)\n",
    "#         popt, pcov = curve_fit(f = exchange_fit, xdata = GTP_timepoints, ydata = GTP_exchanged_list,\n",
    "#                                bounds = (0, [max_protons-1, max_protons-1, max_protons-1, 1, 1, 1, max_protons]),\n",
    "#                                maxfev = 100000)\n",
    "#         exchange_GTP = exchange_fit(trialT, *popt)\n",
    "#         print(\"GTP\")\n",
    "#         print(popt)\n",
    "#         perr = np.sqrt(np.diag(pcov))\n",
    "\n",
    "#         font = {'family' : 'DejaVu Sans',\n",
    "#                 'weight' : 'normal',\n",
    "#                 'size'   : 20\n",
    "#                }\n",
    "#         axes = {'titlesize' : 20,\n",
    "#                 'titleweight' : 'bold',\n",
    "#                 'labelsize' : 20\n",
    "#                }\n",
    "\n",
    "#         plt.rc('font', **font)\n",
    "#         plt.rc('axes', **axes)\n",
    "#         plt.rc('lines', lw = 3)\n",
    "\n",
    "#         fig, ax = plt.subplots()\n",
    "#         ax.plot(GDP_timepoints, GDP_exchanged_, 'o', color = 'yellowgreen', markersize = 12, label = 'GDP')\n",
    "#         ax.plot(trialT, exchange_GDP, ls = '-', color = 'yellowgreen')\n",
    "#         ax.plot(GTP_timepoints, GTP_exchanged_, 'o', markersize = 12, label = 'GTP', color = 'orange')\n",
    "#         ax.plot(trialT, exchange_GTP, ls = '-', color = 'orange')\n",
    "#         peptide_start = str(peptide_resnums.get(peptide)[0])\n",
    "#         ax.set(xlabel = 'Time (s)', ylabel = '#D', title = peptide_start + \": \" + peptide)\n",
    "#         ax.set_ylim(-.25,len(peptide)-2)\n",
    "#         ax.set_xscale('log')\n",
    "#         ax.legend(frameon = True)\n",
    "#         plt.savefig(peptide_start + \"_\" + peptide + \".png\",  transparent=True)\n",
    "\n"
   ]
  },
  {
   "cell_type": "code",
   "execution_count": null,
   "metadata": {},
   "outputs": [],
   "source": []
  },
  {
   "cell_type": "code",
   "execution_count": null,
   "metadata": {},
   "outputs": [],
   "source": []
  }
 ],
 "metadata": {
  "kernelspec": {
   "display_name": "Python 3",
   "language": "python",
   "name": "python3"
  },
  "language_info": {
   "codemirror_mode": {
    "name": "ipython",
    "version": 3
   },
   "file_extension": ".py",
   "mimetype": "text/x-python",
   "name": "python",
   "nbconvert_exporter": "python",
   "pygments_lexer": "ipython3",
   "version": "3.8.3"
  }
 },
 "nbformat": 4,
 "nbformat_minor": 4
}
