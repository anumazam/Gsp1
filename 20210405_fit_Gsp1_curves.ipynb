{
 "cells": [
  {
   "cell_type": "code",
   "execution_count": 1,
   "metadata": {},
   "outputs": [
    {
     "data": {
      "application/vnd.jupyter.widget-view+json": {
       "model_id": "1c0317389d52418cad8047fb12dc7760",
       "version_major": 2,
       "version_minor": 0
      },
      "text/plain": []
     },
     "metadata": {},
     "output_type": "display_data"
    }
   ],
   "source": [
    "import numpy as np\n",
    "import math\n",
    "import matplotlib as mpl\n",
    "import matplotlib.pyplot as plt\n",
    "import pandas as pd\n",
    "import seaborn as sns\n",
    "from scipy.optimize import curve_fit\n",
    "import ipywidgets as widgets\n",
    "from matplotlib.ticker import FormatStrFormatter\n",
    "import pytraj as pt\n",
    "import nglview as nv\n",
    "\n",
    "# read in the data\n",
    "\n",
    "df_GDP = pd.read_csv('./summary_GDP.csv', header=0) #change csv name\n",
    "df_GTP = pd.read_csv('./summary_GTP.csv', header=0)\n",
    "\n",
    "# catalog unique peptides in both states\n",
    "\n",
    "timepoints = df_GDP['Deut Time (sec)'].unique()\n",
    "peptides_GDP = df_GDP['Sequence'].unique()\n",
    "peptides_GTP = df_GTP['Sequence'].unique()\n",
    "\n",
    "df_peptides_resnum = df_GDP[[\"Start\",\"End\",\"Sequence\"]]\n",
    "df_peptides_resnum = df_peptides_resnum.drop_duplicates()\n",
    "peptide_resnums = {}\n",
    "for index, row in df_peptides_resnum.iterrows():\n",
    "    peptide_resnums[ row['Sequence'] ] = row['Start'], row['End']\n",
    "\n",
    "peptides_both = set(peptides_GDP).intersection(peptides_GTP)\n",
    "peptides_one = set(peptides_GDP).difference(peptides_GTP)\n",
    "\n",
    "# remove peptides with limited exchange data in one or both states\n",
    "\n",
    "peptides_both_complete = []\n",
    "for peptide in peptides_both:\n",
    "    GDP_exchanged = []\n",
    "    GTP_exchanged = []\n",
    "\n",
    "    df_GDP_subset = df_GDP[[\"Sequence\",\"Deut Time (sec)\",\"#D\"]]\n",
    "    df_GTP_subset = df_GTP[[\"Sequence\",\"Deut Time (sec)\",\"#D\"]]\n",
    "    df_GDP_peptide = df_GDP_subset[df_GDP_subset[\"Sequence\"] == peptide]\n",
    "    df_GTP_peptide = df_GTP_subset[df_GTP_subset[\"Sequence\"] == peptide]\n",
    "    \n",
    "    for timepoint in timepoints:\n",
    "        df_GDP_tp = df_GDP_peptide[df_GDP_peptide[\"Deut Time (sec)\"] == timepoint]\n",
    "        GDP_exchanged.append(df_GDP_tp['#D'])\n",
    "        df_GTP_tp = df_GTP_peptide[df_GTP_peptide[\"Deut Time (sec)\"] == timepoint]\n",
    "        GTP_exchanged.append(df_GTP_tp['#D'])\n",
    "        \n",
    "    GDP_timepoints = []\n",
    "    GDP_index = 0\n",
    "    GDP_exchanged_ = []\n",
    "    for x in GDP_exchanged:\n",
    "        if not math.isnan(float(x)):\n",
    "            GDP_timepoints.append(timepoints[GDP_index])\n",
    "            GDP_exchanged_.append(float(x))\n",
    "        GDP_index = GDP_index + 1\n",
    "        \n",
    "    GTP_timepoints = []\n",
    "    GTP_index = 0\n",
    "    GTP_exchanged_ = []\n",
    "    for x in GTP_exchanged:\n",
    "        if not math.isnan(float(x)):\n",
    "            GTP_timepoints.append(timepoints[GTP_index])\n",
    "            GTP_exchanged_.append(float(x))\n",
    "        GTP_index = GTP_index + 1\n",
    "    \n",
    "    if len(GDP_exchanged_) > 3 and len(GTP_exchanged_) > 3:\n",
    "        peptides_both_complete.append(peptide)"
   ]
  },
  {
   "cell_type": "code",
   "execution_count": 2,
   "metadata": {},
   "outputs": [
    {
     "data": {
      "application/vnd.jupyter.widget-view+json": {
       "model_id": "01d5bcb7f4f74592896d0ca51ac570e8",
       "version_major": 2,
       "version_minor": 0
      },
      "text/plain": [
       "Dropdown(description='Peptide 1:', index=54, options=('1 - GSSAPAANGEVPTFKL', '1 - GSSAPAANGEVPTFKLVL', '1 - G…"
      ]
     },
     "metadata": {},
     "output_type": "display_data"
    },
    {
     "data": {
      "application/vnd.jupyter.widget-view+json": {
       "model_id": "2648e41c3231452abd188e9f7ee71fc8",
       "version_major": 2,
       "version_minor": 0
      },
      "text/plain": [
       "Dropdown(description='Peptide 2:', index=11, options=('1 - GSSAPAANGEVPTFKL', '1 - GSSAPAANGEVPTFKLVL', '1 - G…"
      ]
     },
     "metadata": {},
     "output_type": "display_data"
    }
   ],
   "source": [
    "# widgets: choose a peptide from the culled peptide dataset\n",
    "\n",
    "dropdown_peptides = []\n",
    "for peptide in peptides_both_complete:\n",
    "    peptide_start = str(peptide_resnums.get(peptide)[0])\n",
    "    peptide_end = str(peptide_resnums.get(peptide)[1])\n",
    "    dropdown_peptides.append(peptide_start + ' - ' + peptide)\n",
    "\n",
    "dropdown_peptides = sorted(dropdown_peptides, key=lambda x:x[:3])\n",
    "\n",
    "DDwidget = widgets.Dropdown(\n",
    "    options = dropdown_peptides,\n",
    "    value = '48 - VEVHPLSF',\n",
    "    description = 'Peptide 1:',\n",
    "    disabled = False,\n",
    ")\n",
    "\n",
    "DDwidget2 = widgets.Dropdown(\n",
    "    options = dropdown_peptides,\n",
    "    value = '150 - YDISAKSNYNFEKPFL',\n",
    "    description = 'Peptide 2:',\n",
    "    disabled = False,\n",
    ")\n",
    "\n",
    "display(DDwidget)\n",
    "display(DDwidget2)"
   ]
  },
  {
   "cell_type": "code",
   "execution_count": 3,
   "metadata": {
    "scrolled": false
   },
   "outputs": [
    {
     "name": "stderr",
     "output_type": "stream",
     "text": [
      "/Users/anumglasgow/miniconda3/lib/python3.8/site-packages/scipy/optimize/minpack.py:828: OptimizeWarning: Covariance of the parameters could not be estimated\n",
      "  warnings.warn('Covariance of the parameters could not be estimated',\n",
      "/Users/anumglasgow/miniconda3/lib/python3.8/site-packages/scipy/optimize/minpack.py:828: OptimizeWarning: Covariance of the parameters could not be estimated\n",
      "  warnings.warn('Covariance of the parameters could not be estimated',\n"
     ]
    },
    {
     "name": "stdout",
     "output_type": "stream",
     "text": [
      "\n",
      "PDB ID: 3M1I (Gsp1-GTP). \n",
      "\n",
      "Use the mouse to move the structure. \n",
      "Double-click for full-screen. Type \"R\" to zoom out, \"I\" to rotate, and \"K\" to rock.\n",
      "NGLViewer, an amazing tool: H Nguyen, DA Case and AS Rose, Bioinformatics, 2017. doi:10.1093/bioinformatics/btx789\n",
      "\n",
      "Peptide VEVHPLSF, residues 152-150, shown as orange surface and sticks.\n",
      "Peptide YDISAKSNYNFEKPFL, residues 152-150, shown as blue surface and sticks.\n"
     ]
    },
    {
     "data": {
      "application/vnd.jupyter.widget-view+json": {
       "model_id": "7b1414f6262f4aebb2d3bdd9572d8b4f",
       "version_major": 2,
       "version_minor": 0
      },
      "text/plain": [
       "NGLWidget()"
      ]
     },
     "metadata": {},
     "output_type": "display_data"
    },
    {
     "data": {
      "image/png": "[encoded data removed]",
      "text/plain": [
       "<Figure size 432x288 with 1 Axes>"
      ]
     },
     "metadata": {
      "needs_background": "light"
     },
     "output_type": "display_data"
    },
    {
     "data": {
      "image/png": "[encoded data removed]",
      "text/plain": [
       "<Figure size 432x288 with 1 Axes>"
      ]
     },
     "metadata": {
      "needs_background": "light"
     },
     "output_type": "display_data"
    }
   ],
   "source": [
    "peptide_input1 = str(DDwidget.value)\n",
    "peptide_input1 = peptide_input1.split()[-1]\n",
    "\n",
    "peptide_input2 = str(DDwidget2.value)\n",
    "peptide_input2 = peptide_input2.split()[-1]\n",
    "\n",
    "selected_peptides = [peptide_input1, peptide_input2]\n",
    "\n",
    "for peptide in selected_peptides:\n",
    "    GDP_exchanged = []\n",
    "    GTP_exchanged = []\n",
    "    num_prolines = peptide[2:].count('P')\n",
    "    max_protons = len(peptide) - 2 - num_prolines\n",
    "\n",
    "    df_GDP_subset = df_GDP[[\"Sequence\",\"Deut Time (sec)\",\"#D\"]]\n",
    "    df_GTP_subset = df_GTP[[\"Sequence\",\"Deut Time (sec)\",\"#D\"]]\n",
    "    df_GDP_peptide = df_GDP_subset[df_GDP_subset[\"Sequence\"] == peptide]\n",
    "    df_GTP_peptide = df_GTP_subset[df_GTP_subset[\"Sequence\"] == peptide]\n",
    "        \n",
    "    for timepoint in timepoints:\n",
    "        df_GDP_tp = df_GDP_peptide[df_GDP_peptide[\"Deut Time (sec)\"] == timepoint]\n",
    "        GDP_exchanged.append(df_GDP_tp['#D'])\n",
    "        df_GTP_tp = df_GTP_peptide[df_GTP_peptide[\"Deut Time (sec)\"] == timepoint]\n",
    "        GTP_exchanged.append(df_GTP_tp['#D'])\n",
    "        \n",
    "    GDP_timepoints = []\n",
    "    GDP_index = 0\n",
    "    GDP_exchanged_ = []\n",
    "    for x in GDP_exchanged:\n",
    "        if not math.isnan(float(x)):\n",
    "            GDP_timepoints.append(timepoints[GDP_index])\n",
    "            GDP_exchanged_.append(float(x))\n",
    "        GDP_index = GDP_index + 1\n",
    "        \n",
    "    GTP_timepoints = []\n",
    "    GTP_index = 0\n",
    "    GTP_exchanged_ = []\n",
    "    for x in GTP_exchanged:\n",
    "        if not math.isnan(float(x)):\n",
    "            GTP_timepoints.append(timepoints[GTP_index])\n",
    "            GTP_exchanged_.append(float(x))\n",
    "        GTP_index = GTP_index + 1\n",
    "\n",
    "    def exchange_fit(x, a, b, c, d, e, f, g):\n",
    "        max_protons = a + b + c + g\n",
    "        d > e\n",
    "        e > f\n",
    "        d > f\n",
    "        return max_protons - a * np.exp(-d * x) - b * np.exp(-e * x) - c * np.exp(-f * x) - g\n",
    "\n",
    "\n",
    "    GDP_exchanged_list = []\n",
    "    for element in GDP_exchanged_:\n",
    "        GDP_exchanged_list.append(float(element))\n",
    "    GTP_exchanged_list = []\n",
    "    for element in GTP_exchanged_:\n",
    "        GTP_exchanged_list.append(float(element))\n",
    "\n",
    "    trialT = np.logspace(1, 4.5, 10000)\n",
    "    popt, pcov = curve_fit(f = exchange_fit, xdata = GDP_timepoints, ydata = GDP_exchanged_list,\n",
    "                           bounds = (0, [max_protons-1, max_protons-1, max_protons-1, 1, 1, 1, max_protons]),\n",
    "                           maxfev = 100000)\n",
    "    exchange_GDP = exchange_fit(trialT, *popt)\n",
    "    perr = np.sqrt(np.diag(pcov))\n",
    "\n",
    "\n",
    "    trialT = np.logspace(1, 4.5, 10000)\n",
    "    popt, pcov = curve_fit(f = exchange_fit, xdata = GTP_timepoints, ydata = GTP_exchanged_list,\n",
    "                           bounds = (0, [max_protons-1, max_protons-1, max_protons-1, 1, 1, 1, max_protons]),\n",
    "                           maxfev = 100000)\n",
    "    exchange_GTP = exchange_fit(trialT, *popt)\n",
    "    perr = np.sqrt(np.diag(pcov))\n",
    "\n",
    "    font = {'family' : 'DejaVu Sans',\n",
    "            'weight' : 'normal',\n",
    "            'size'   : 20\n",
    "           }\n",
    "    axes = {'titlesize' : 20,\n",
    "            'titleweight' : 'bold',\n",
    "            'labelsize' : 20\n",
    "           }\n",
    "\n",
    "    plt.rc('font', **font)\n",
    "    plt.rc('axes', **axes)\n",
    "    plt.rc('lines', lw = 3)\n",
    "\n",
    "    fig, ax = plt.subplots()\n",
    "    ax.plot(GDP_timepoints, GDP_exchanged_, 'o', color = 'yellowgreen', markersize = 12, label = 'GDP')\n",
    "    ax.plot(trialT, exchange_GDP, ls = '-', color = 'yellowgreen')\n",
    "    ax.plot(GTP_timepoints, GTP_exchanged_, 'o', markersize = 12, label = 'GTP', color = 'orange')\n",
    "    ax.plot(trialT, exchange_GTP, ls = '-', color = 'orange')\n",
    "    peptide_start = peptide_resnums.get(peptide)[0]\n",
    "    peptide_end = peptide_resnums.get(peptide)[0]\n",
    "    ax.set(xlabel = 'Time (s)', ylabel = '#D', title = str(peptide_start) + \": \" + peptide)\n",
    "    ax.set_ylim(-.25,max_protons+0.5)\n",
    "    ax.yaxis.set_major_formatter(FormatStrFormatter('%.f'))\n",
    "    ax.set_xscale('log')\n",
    "    ax.legend(frameon = True)\n",
    "    plt.savefig(str(peptide_start) + \"_\" + peptide + \".png\",  transparent=True)\n",
    "\n",
    "# This section controls the structure widget.\n",
    "\n",
    "\n",
    "peptide1_start = str(peptide_resnums.get(peptide_input1)[0])\n",
    "peptide1_end = str(peptide_resnums.get(peptide_input1)[1])\n",
    "peptide2_start = str(peptide_resnums.get(peptide_input2)[0])\n",
    "peptide2_end = str(peptide_resnums.get(peptide_input2)[1])\n",
    "\n",
    "view = nv.NGLWidget()\n",
    "traj = pt.load('3m1i_Gsp1_only.pdb')\n",
    "view = nv.show_pytraj(traj)\n",
    "view.add_surface(peptide1_start + \"-\" + peptide1_end, color = 'orange', opacity='0.5', wireframe=False)\n",
    "# view.add_ball_and_stick(peptide1_start + \"-\" + peptide1_end)\n",
    "view.add_surface(peptide2_start + \"-\" + peptide2_end, color = 'lightblue', opacity='0.5', wireframe=False)\n",
    "# view.add_ball_and_stick(peptide2_start + \"-\" + peptide2_end)\n",
    "view.add_ball_and_stick('1177-1178')\n",
    "view.background = \"white\"\n",
    "\n",
    "# view.add_representation('line', selection='water') # uncomment this line to see solvent\n",
    "view._set_size('800px', '600px')\n",
    "\n",
    "print('''\n",
    "PDB ID: 3M1I (Gsp1-GTP). \n",
    "\n",
    "Use the mouse to move the structure. \n",
    "Double-click for full-screen. Type \"R\" to zoom out, \"I\" to rotate, and \"K\" to rock.\n",
    "NGLViewer, an amazing tool: H Nguyen, DA Case and AS Rose, Bioinformatics, 2017. doi:10.1093/bioinformatics/btx789\n",
    "''')\n",
    "print('Peptide ' + peptide_input1 + ', residues ' + str(peptide_start+2) + \"-\" + str(peptide_end) + \n",
    "      ', shown as orange surface and sticks.')\n",
    "print('Peptide ' + peptide_input2 + ', residues ' + str(peptide_start+2) + \"-\" + str(peptide_end) + \n",
    "      ', shown as blue surface and sticks.')\n",
    "view"
   ]
  },
  {
   "cell_type": "code",
   "execution_count": null,
   "metadata": {},
   "outputs": [],
   "source": []
  },
  {
   "cell_type": "code",
   "execution_count": null,
   "metadata": {},
   "outputs": [],
   "source": []
  }
 ],
 "metadata": {
  "kernelspec": {
   "display_name": "Python 3",
   "language": "python",
   "name": "python3"
  },
  "language_info": {
   "codemirror_mode": {
    "name": "ipython",
    "version": 3
   },
   "file_extension": ".py",
   "mimetype": "text/x-python",
   "name": "python",
   "nbconvert_exporter": "python",
   "pygments_lexer": "ipython3",
   "version": "3.8.3"
  }
 },
 "nbformat": 4,
 "nbformat_minor": 4
}
